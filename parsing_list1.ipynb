{
 "cells": [
  {
   "cell_type": "code",
   "execution_count": 1,
   "metadata": {},
   "outputs": [],
   "source": [
    "from weibo_class import Weibo\n",
    "import re\n",
    "import os\n",
    "import csv\n",
    "import traceback\n",
    "import numpy as np"
   ]
  },
  {
   "cell_type": "code",
   "execution_count": 2,
   "metadata": {},
   "outputs": [],
   "source": [
    "category = { '0': \"服装\", '1': \"美食\", '2': \"美妆\", '3': \"动漫\", '4': \"电竞\", '5': \"育儿\", '6': \"淘宝\"}\n",
    "video = ['微博视频', '秒拍视频']\n",
    "\n",
    "list_file_name = 'weibo_info.csv'\n",
    "filter = 0\n",
    "user_id = [] \n",
    "user_name = []\n",
    "weibo_num = []\n",
    "following = []\n",
    "followers = []\n",
    "category_idx = [] \n",
    "big_V_idx = []\n",
    "\n",
    "with open(list_file_name, mode='r') as csv_file:\n",
    "    read_csv = csv.reader(csv_file, delimiter=',')\n",
    "    next(read_csv)\n",
    "    for row in read_csv:\n",
    "        user_id.append(int(row[0]))\n",
    "        user_name.append(row[1])\n",
    "        weibo_num.append(int(row[2]))\n",
    "        following.append(int(row[3]))\n",
    "        followers.append(int(row[4]))\n",
    "        category_idx.append(category[row[5]])\n",
    "        big_V_idx.append(row[6])"
   ]
  },
  {
   "cell_type": "code",
   "execution_count": 3,
   "metadata": {},
   "outputs": [],
   "source": [
    "file_dir = '/Users/sn/Documents/Develop/weiboSpider-run/weibo/'\n",
    "list2_file_name = 'weibo_lists_all.csv' # 博主名单\n",
    "posts_file_name = 'weibo_posts_all.csv' # 全部微博\n",
    "with open(list2_file_name, mode = 'w') as csv_write_list2:\n",
    "    csv_write_list2 = csv.writer(csv_write_list2, delimiter = ',',quotechar='\"', quoting=csv.QUOTE_MINIMAL)\n",
    "    csv_write_list2.writerow(['ID', '昵称', '实际读取微博数', '关注数', '粉丝数', '分类', '是否大V'])\n",
    "with open(posts_file_name, mode = 'w') as csv_write_posts:\n",
    "    csv_write_posts = csv.writer(csv_write_posts, delimiter = ',',quotechar='\"', quoting=csv.QUOTE_MINIMAL)\n",
    "    csv_write_posts.writerow(['ID', '昵称', '实际读取微博数', '关注数', '粉丝数', '分类', '是否大V', '发布时间', \n",
    "                              '内容', '是否有图片', '是否有视频', '是否转发', '获得点赞数', '获得转发数','获得评论数'])"
   ]
  },
  {
   "cell_type": "code",
   "execution_count": 4,
   "metadata": {},
   "outputs": [],
   "source": [
    "weibo_id = []\n",
    "weibo_name = []\n",
    "weibo_num = []\n",
    "weibo_following = []\n",
    "weibo_followers = []\n",
    "weibo_content = []\n",
    "weibo_time = []\n",
    "up_num = []\n",
    "retweet_num = []\n",
    "comment_num = []\n",
    "weibo_category = []\n",
    "weibo_big_v = []\n",
    "weibo_image = []\n",
    "weibo_video = []\n",
    "weibo_forwarded = []"
   ]
  },
  {
   "cell_type": "code",
   "execution_count": 5,
   "metadata": {},
   "outputs": [],
   "source": [
    "for p in range(0, len(user_id)) :\n",
    "    file_path = file_dir + str(user_id[p]) + '.csv'\n",
    "    with open(file_path, mode='r') as csv_file:\n",
    "        q = np.array(list(csv_file)).shape[0]\n",
    "    # print(q)\n",
    "    # 实际读取的博主\n",
    "    if q != 1:       \n",
    "        # 把该博主写入实际读取的微博列表\n",
    "        with open(list2_file_name, mode = 'a') as csv_write_list2:\n",
    "            csv_write_list2 = csv.writer(csv_write_list2, delimiter = ',',quotechar='\"', quoting=csv.QUOTE_MINIMAL)\n",
    "            csv_write_list2.writerow([user_id[p], user_name[p], q-1, following[p], followers[p], \n",
    "                                      category_idx[p], big_V_idx[p]])\n",
    "        # 读取该博主全部微博\n",
    "        with open(file_path, mode='r') as csv_file:\n",
    "            read_csv = csv.reader(csv_file, delimiter=',')\n",
    "            next(read_csv)\n",
    "            for row in read_csv:\n",
    "                weibo_id.append(user_id[p])\n",
    "                weibo_name.append(user_name[p])\n",
    "                weibo_num.append(q)\n",
    "                weibo_following.append(following[p])\n",
    "                weibo_followers.append(followers[p])\n",
    "                weibo_content.append(row[0])\n",
    "                weibo_time.append(row[2])\n",
    "                up_num.append(int(row[3]))\n",
    "                retweet_num.append(int(row[4]))\n",
    "                comment_num.append(int(row[5]))\n",
    "                weibo_category.append(category_idx[p])\n",
    "                weibo_big_v.append(big_V_idx[p])\n",
    "                \n",
    "                # 检查是否含有图片\n",
    "                flag_image = 0\n",
    "                if '原图' in row[0]:\n",
    "                    info = re.findall(r'组图共\\d+张', row[0])\n",
    "                    if not info:\n",
    "                        flag_image = 1\n",
    "                    else:\n",
    "                        flag_image = int(re.findall(r'\\d+',info[0])[0]) #微博所含图片张数               \n",
    "                weibo_image.append(flag_image)\n",
    "                \n",
    "                # 检查是否含有视频\n",
    "                flag_video = 0\n",
    "                for keyword in video:\n",
    "                    if keyword in row[0]:\n",
    "                        flag_video = 1\n",
    "                        break\n",
    "                weibo_video.append(flag_video)\n",
    "                \n",
    "                #检查是否是转发微博\n",
    "                flag_forwarded = 0\n",
    "                if ('转发理由' in row[0]) and ('转发内容' in row[0]) :\n",
    "                    flag_forwarded = 1\n",
    "                weibo_forwarded.append(flag_forwarded)"
   ]
  },
  {
   "cell_type": "code",
   "execution_count": 6,
   "metadata": {},
   "outputs": [],
   "source": [
    "# 全部写入\n",
    "with open(posts_file_name, mode = 'a') as csv_write_posts:\n",
    "    csv_write_posts = csv.writer(csv_write_posts, delimiter = ',',quotechar='\"', quoting=csv.QUOTE_MINIMAL)\n",
    "    for i in range(0, len(weibo_id)) :\n",
    "        csv_write_posts.writerow([weibo_id[i], weibo_name[i], weibo_num[i], weibo_following[i], weibo_followers[i], \\\n",
    "                        weibo_category[i], weibo_big_v[i], weibo_time[i], \\\n",
    "                        weibo_content[i], weibo_image[i], weibo_video[i], weibo_forwarded[i], \\\n",
    "                        up_num[i], retweet_num[i], comment_num[i]])"
   ]
  },
  {
   "cell_type": "code",
   "execution_count": null,
   "metadata": {},
   "outputs": [],
   "source": []
  },
  {
   "cell_type": "code",
   "execution_count": null,
   "metadata": {},
   "outputs": [],
   "source": []
  },
  {
   "cell_type": "code",
   "execution_count": null,
   "metadata": {},
   "outputs": [],
   "source": []
  }
 ],
 "metadata": {
  "kernelspec": {
   "display_name": "Python 3",
   "language": "python",
   "name": "python3"
  },
  "language_info": {
   "codemirror_mode": {
    "name": "ipython",
    "version": 3
   },
   "file_extension": ".py",
   "mimetype": "text/x-python",
   "name": "python",
   "nbconvert_exporter": "python",
   "pygments_lexer": "ipython3",
   "version": "3.6.8"
  }
 },
 "nbformat": 4,
 "nbformat_minor": 2
}
