{
 "cells": [
  {
   "cell_type": "code",
   "execution_count": 5,
   "metadata": {},
   "outputs": [],
   "source": [
    "from weibo_class import Weibo\n",
    "import os\n",
    "import csv\n",
    "import traceback\n",
    "this_keyword = {\"服装\": 0, \"穿搭\": 0, \"品牌店\": 0, \"时装\": 0, \"品牌\": 0, \"买手\": 0, \"美衣\": 0,\n",
    "                \"美食\": 1, \"下厨房\": 1, \"美食达人\": 1, \"烘焙\": 1, \"甜品\": 1,\n",
    "                \"美妆\": 2, \"彩妆\": 2, \"混油皮\": 2, \"干皮\": 2, \"化妆\": 2, \"眼影\": 2, \"美甲\": 2, \"护肤\": 2,\n",
    "                \"动漫\": 3, \"二次元\": 3, \"手办\": 3, \"cosplay\": 3,\n",
    "                \"电竞\": 4, \"电子竞技\": 4, \"战队\": 4, \"RNG\": 4, \"LGD\": 4, \"Dota\": 4, \"游戏\": 4, \"LOL\": 4, \"LPL\": 4, \"LCK\": 4, \"魔兽\": 4, \"斗鱼直播\": 4,\n",
    "                \"育儿\": 5, \"母婴\": 5, \"妈咪\": 5, \"童装\": 5, \"宝宝\": 5, \"宝贝\": 5,\n",
    "                \"淘宝\": 6, \"店铺\": 6, \"时尚\": 6,\n",
    "                }\n",
    "category_count = [0, 0, 0, 0, 0, 0, 0]\n",
    "user_id = 6137455005\n",
    "filter = 1"
   ]
  },
  {
   "cell_type": "code",
   "execution_count": 6,
   "metadata": {},
   "outputs": [
    {
     "name": "stdout",
     "output_type": "stream",
     "text": [
      "用户名: 每日荐游君\n"
     ]
    },
    {
     "data": {
      "text/plain": [
       "True"
      ]
     },
     "execution_count": 6,
     "metadata": {},
     "output_type": "execute_result"
    }
   ],
   "source": [
    "wb = Weibo(user_id, filter)\t # 调用Weibo类，创建微博实例wb\n",
    "wb.get_username() # 获取微博用户名字\n",
    "wb.get_user_info() # 获取微博用户信息\n",
    "wb.get_certification() # 获取认证信息\n",
    "wb.get_big_V() # 获取大V信息"
   ]
  },
  {
   "cell_type": "code",
   "execution_count": 7,
   "metadata": {},
   "outputs": [
    {
     "data": {
      "text/plain": [
       "'认证：知名游戏博主 游戏视频自媒体'"
      ]
     },
     "execution_count": 7,
     "metadata": {},
     "output_type": "execute_result"
    }
   ],
   "source": [
    "wb.certification"
   ]
  },
  {
   "cell_type": "code",
   "execution_count": 11,
   "metadata": {},
   "outputs": [],
   "source": [
    "for keyword in this_keyword :\n",
    "    if keyword in wb.certification :\n",
    "        # 统计该博主属于哪个category\n",
    "        category_idx = this_keyword[keyword]\n",
    "        category_count[category_idx] = category_count[category_idx] + 1\n",
    "        # 是否寻找足够的博主\n",
    "        if category_count[category_idx] == 10:\n",
    "            flag = False\n",
    "        # 判断是不是大V\n",
    "        big_V_idx = 1\n",
    "        if not wb.big_V:\n",
    "            big_V_idx = 0"
   ]
  },
  {
   "cell_type": "code",
   "execution_count": 13,
   "metadata": {},
   "outputs": [
    {
     "data": {
      "text/plain": [
       "[0, 0, 0, 0, 3, 0, 0]"
      ]
     },
     "execution_count": 13,
     "metadata": {},
     "output_type": "execute_result"
    }
   ],
   "source": [
    "category_count"
   ]
  },
  {
   "cell_type": "code",
   "execution_count": 14,
   "metadata": {},
   "outputs": [
    {
     "name": "stdout",
     "output_type": "stream",
     "text": [
      "认证：知名游戏博主 游戏视频自媒体\n"
     ]
    }
   ],
   "source": [
    "print(wb.certification)"
   ]
  },
  {
   "cell_type": "code",
   "execution_count": null,
   "metadata": {},
   "outputs": [],
   "source": []
  }
 ],
 "metadata": {
  "kernelspec": {
   "display_name": "Python 3",
   "language": "python",
   "name": "python3"
  },
  "language_info": {
   "codemirror_mode": {
    "name": "ipython",
    "version": 3
   },
   "file_extension": ".py",
   "mimetype": "text/x-python",
   "name": "python",
   "nbconvert_exporter": "python",
   "pygments_lexer": "ipython3",
   "version": "3.6.8"
  }
 },
 "nbformat": 4,
 "nbformat_minor": 2
}
