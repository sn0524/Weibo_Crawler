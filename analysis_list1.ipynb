{
 "cells": [
  {
   "cell_type": "code",
   "execution_count": 1,
   "metadata": {},
   "outputs": [],
   "source": [
    "import os\n",
    "import csv\n",
    "import traceback\n",
    "import matplotlib.pyplot as plt\n",
    "\n",
    "category = { '0': \"服装\", '1': \"美食\", '2': \"美妆\", '3': \"动漫\", '4': \"电竞\", '5': \"育儿\", '6': \"淘宝\"}"
   ]
  },
  {
   "cell_type": "code",
   "execution_count": 2,
   "metadata": {},
   "outputs": [],
   "source": [
    "user_id = [] \n",
    "user_name = []\n",
    "weibo_num = []\n",
    "following = []\n",
    "followers = []\n",
    "category_idx = [] \n",
    "big_V_idx = []\n",
    "\n",
    "# 读取csv列表\n",
    "file_path = \"weibo_info.csv\"\n",
    "with open(file_path, mode='r') as csv_file:\n",
    "    read_csv = csv.reader(csv_file, delimiter=',')\n",
    "    next(read_csv)\n",
    "    for row in read_csv:\n",
    "        user_id.append(int(row[0]))\n",
    "        user_name.append(row[1])\n",
    "        weibo_num.append(int(row[2]))\n",
    "             following.append(int(row[3]))\n",
    "        followers.append(int(row[4]))\n",
    "        category_idx.append(category[row[5]])\n",
    "        big_V_idx.append(row[6])"
   ]
  },
  {
   "cell_type": "code",
   "execution_count": 3,
   "metadata": {},
   "outputs": [
    {
     "data": {
      "text/plain": [
       "111"
      ]
     },
     "execution_count": 3,
     "metadata": {},
     "output_type": "execute_result"
    },
    {
     "data": {
      "image/png": "[encoded data removed]",
      "text/plain": [
       "<Figure size 432x288 with 1 Axes>"
      ]
     },
     "metadata": {
      "needs_background": "light"
     },
     "output_type": "display_data"
    }
   ],
   "source": [
    "b = range(0, int(1e7), int(2e5))\n",
    "n, bins, patches = plt.hist(followers, b)\n",
    "les = [n for n in followers if n < 10000000]\n",
    "plt.text(6000000, 40, r'total num=%d'%len(les))\n",
    "len(les)"
   ]
  },
  {
   "cell_type": "code",
   "execution_count": 4,
   "metadata": {},
   "outputs": [
    {
     "data": {
      "text/plain": [
       "37"
      ]
     },
     "execution_count": 4,
     "metadata": {},
     "output_type": "execute_result"
    },
    {
     "data": {
      "image/png": "[encoded data removed]",
      "text/plain": [
       "<Figure size 432x288 with 1 Axes>"
      ]
     },
     "metadata": {
      "needs_background": "light"
     },
     "output_type": "display_data"
    }
   ],
   "source": [
    "b = range(0, int(1e5), int(2e3))\n",
    "n, bins, patches = plt.hist(followers, b)\n",
    "les = [n for n in followers if n < 100000]\n",
    "plt.text(60000, 8, r'total num=%d'%len(les))\n",
    "len(les)"
   ]
  },
  {
   "cell_type": "code",
   "execution_count": 7,
   "metadata": {},
   "outputs": [
    {
     "data": {
      "text/plain": [
       "[66897,\n",
       " 4674,\n",
       " 1299,\n",
       " 28969,\n",
       " 12544,\n",
       " 8402,\n",
       " 10161,\n",
       " 467,\n",
       " 11944,\n",
       " 9995,\n",
       " 88,\n",
       " 12222,\n",
       " 574,\n",
       " 5684,\n",
       " 73824,\n",
       " 27459,\n",
       " 44472,\n",
       " 2944,\n",
       " 9907,\n",
       " 56834,\n",
       " 6032,\n",
       " 73819,\n",
       " 208,\n",
       " 129,\n",
       " 18692,\n",
       " 18940,\n",
       " 18910,\n",
       " 325,\n",
       " 5419,\n",
       " 226,\n",
       " 48249,\n",
       " 97609,\n",
       " 4719,\n",
       " 73684,\n",
       " 11776,\n",
       " 27930,\n",
       " 56]"
      ]
     },
     "execution_count": 7,
     "metadata": {},
     "output_type": "execute_result"
    }
   ],
   "source": [
    "les"
   ]
  },
  {
   "cell_type": "code",
   "execution_count": null,
   "metadata": {},
   "outputs": [],
   "source": []
  }
 ],
 "metadata": {
  "kernelspec": {
   "display_name": "Python 3",
   "language": "python",
   "name": "python3"
  },
  "language_info": {
   "codemirror_mode": {
    "name": "ipython",
    "version": 3
   },
   "file_extension": ".py",
   "mimetype": "text/x-python",
   "name": "python",
   "nbconvert_exporter": "python",
   "pygments_lexer": "ipython3",
   "version": "3.6.8"
  }
 },
 "nbformat": 4,
 "nbformat_minor": 2
}
